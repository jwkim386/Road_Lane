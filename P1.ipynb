{
 "cells": [
  {
   "cell_type": "markdown",
   "metadata": {},
   "source": [
    "# **Finding Lane Lines on the Road** \n",
    "***\n",
    "In this project, you will use the tools you learned about in the lesson to identify lane lines on the road.  You can develop your pipeline on a series of individual images, and later apply the result to a video stream (really just a series of images). Check out the video clip \"raw-lines-example.mp4\" (also contained in this repository) to see what the output should look like after using the helper functions below. \n",
    "\n",
    "Once you have a result that looks roughly like \"raw-lines-example.mp4\", you'll need to get creative and try to average and/or extrapolate the line segments you've detected to map out the full extent of the lane lines.  You can see an example of the result you're going for in the video \"P1_example.mp4\".  Ultimately, you would like to draw just one line for the left side of the lane, and one for the right.\n",
    "\n",
    "---\n",
    "Let's have a look at our first image called 'test_images/solidWhiteRight.jpg'.  Run the 2 cells below (hit Shift-Enter or the \"play\" button above) to display the image.\n",
    "\n",
    "**Note** If, at any point, you encounter frozen display windows or other confounding issues, you can always start again with a clean slate by going to the \"Kernel\" menu above and selecting \"Restart & Clear Output\".\n",
    "\n",
    "---"
   ]
  },
  {
   "cell_type": "markdown",
   "metadata": {},
   "source": [
    "**The tools you have are color selection, region of interest selection, grayscaling, Gaussian smoothing, Canny Edge Detection and Hough Tranform line detection.  You  are also free to explore and try other techniques that were not presented in the lesson.  Your goal is piece together a pipeline to detect the line segments in the image, then average/extrapolate them and draw them onto the image for display (as below).  Once you have a working pipeline, try it out on the video stream below.**\n",
    "\n",
    "---\n",
    "\n",
    "<figure>\n",
    " <img src=\"line-segments-example.jpg\" width=\"380\" alt=\"Combined Image\" />\n",
    " <figcaption>\n",
    " <p></p> \n",
    " <p style=\"text-align: center;\"> Your output should look something like this (above) after detecting line segments using the helper functions below </p> \n",
    " </figcaption>\n",
    "</figure>\n",
    " <p></p> \n",
    "<figure>\n",
    " <img src=\"laneLines_thirdPass.jpg\" width=\"380\" alt=\"Combined Image\" />\n",
    " <figcaption>\n",
    " <p></p> \n",
    " <p style=\"text-align: center;\"> Your goal is to connect/average/extrapolate line segments to get output like this</p> \n",
    " </figcaption>\n",
    "</figure>"
   ]
  },
  {
   "cell_type": "code",
   "execution_count": null,
   "metadata": {},
   "outputs": [],
   "source": [
    "#importing some useful packages\n",
    "import matplotlib.pyplot as plt\n",
    "import matplotlib.image as mpimg\n",
    "import numpy as np\n",
    "import cv2\n",
    "%matplotlib inline"
   ]
  },
  {
   "cell_type": "code",
   "execution_count": null,
   "metadata": {},
   "outputs": [],
   "source": [
    "#reading in an image\n",
    "image = mpimg.imread('test_images/solidWhiteRight.jpg')\n",
    "#printing out some stats and plotting\n",
    "print('This image is:', type(image), 'with dimesions:', image.shape)\n",
    "plt.imshow(image)  #call as plt.imshow(gray, cmap='gray') to show a grayscaled image"
   ]
  },
  {
   "cell_type": "markdown",
   "metadata": {},
   "source": [
    "**Some OpenCV functions (beyond those introduced in the lesson) that might be useful for this project are:**\n",
    "\n",
    "`cv2.inRange()` for color selection  \n",
    "`cv2.fillPoly()` for regions selection  \n",
    "`cv2.line()` to draw lines on an image given endpoints  \n",
    "`cv2.addWeighted()` to coadd / overlay two images\n",
    "`cv2.cvtColor()` to grayscale or change color\n",
    "`cv2.imwrite()` to output images to file  \n",
    "`cv2.bitwise_and()` to apply a mask to an image\n",
    "\n",
    "**Check out the OpenCV documentation to learn about these and discover even more awesome functionality!**"
   ]
  },
  {
   "cell_type": "markdown",
   "metadata": {},
   "source": [
    "Below are some helper functions to help get you started. They should look familiar from the lesson!"
   ]
  },
  {
   "cell_type": "code",
   "execution_count": null,
   "metadata": {},
   "outputs": [],
   "source": [
    "import math\n",
    "\n",
    "def grayscale(img):\n",
    "    \"\"\"Applies the Grayscale transform\n",
    "    This will return an image with only one color channel\n",
    "    but NOTE: to see the returned image as grayscale\n",
    "    you should call plt.imshow(gray, cmap='gray')\"\"\"\n",
    "    return cv2.cvtColor(img, cv2.COLOR_BGR2GRAY)\n",
    "    \n",
    "def canny(img, low_threshold, high_threshold):\n",
    "    \"\"\"Applies the Canny transform\"\"\"\n",
    "    return cv2.Canny(img, low_threshold, high_threshold)\n",
    "\n",
    "def gaussian_blur(img, kernel_size):\n",
    "    \"\"\"Applies a Gaussian Noise kernel\"\"\"\n",
    "    return cv2.GaussianBlur(img, (kernel_size, kernel_size), 0)\n",
    "\n",
    "def region_of_interest(img, vertices):\n",
    "    \"\"\"\n",
    "    Applies an image mask.\n",
    "    \n",
    "    Only keeps the region of the image defined by the polygon\n",
    "    formed from `vertices`. The rest of the image is set to black.\n",
    "    \"\"\"\n",
    "    #defining a blank mask to start with\n",
    "    mask = np.zeros_like(img)   \n",
    "    \n",
    "    #defining a 3 channel or 1 channel color to fill the mask with depending on the input image\n",
    "    if len(img.shape) > 2:\n",
    "        channel_count = img.shape[2]  # i.e. 3 or 4 depending on your image\n",
    "        ignore_mask_color = (255,) * channel_count\n",
    "    else:\n",
    "        ignore_mask_color = 255\n",
    "        \n",
    "    #filling pixels inside the polygon defined by \"vertices\" with the fill color    \n",
    "    cv2.fillPoly(mask, vertices, ignore_mask_color)\n",
    "    \n",
    "    #returning the image only where mask pixels are nonzero\n",
    "    masked_image = cv2.bitwise_and(img, mask)\n",
    "    return masked_image\n",
    "\n",
    "\n",
    "def draw_lines(img, lines, color=[255, 0, 0], thickness=10):\n",
    "    \"\"\"\n",
    "    NOTE: this is the function you might want to use as a starting point once you want to \n",
    "    average/extrapolate the line segments you detect to map out the full\n",
    "    extent of the lane (going from the result shown in raw-lines-example.mp4\n",
    "    to that shown in P1_example.mp4).  \n",
    "    \n",
    "    Think about things like separating line segments by their \n",
    "    slope ((y2-y1)/(x2-x1)) to decide which segments are part of the left\n",
    "    line vs. the right line.  Then, you can average the position of each of \n",
    "    the lines and extrapolate to the top and bottom of the lane.\n",
    "    \n",
    "    This function draws `lines` with `color` and `thickness`.    \n",
    "    Lines are drawn on the image inplace (mutates the image).\n",
    "    If you want to make the lines semi-transparent, think about combining\n",
    "    this function with the weighted_img() function below\n",
    "    \"\"\"\n",
    "    # In case of error, don't draw the line\n",
    "    draw_right = True\n",
    "    draw_left = True\n",
    "    \n",
    "    # Find slopes of all lines\n",
    "    # But only care about lines where abs(slope) > slope_threshold\n",
    "    slope_threshold = 0.5\n",
    "    slopes = []\n",
    "    new_lines = []\n",
    "    for line in lines:\n",
    "        x1, y1, x2, y2 = line[0]  # line = [[x1, y1, x2, y2]]\n",
    "        \n",
    "        # Calculate slope\n",
    "        if x2 - x1 == 0.:  # corner case, avoiding division by 0\n",
    "            slope = 999.  # practically infinite slope\n",
    "        else:\n",
    "            slope = (y2 - y1) / (x2 - x1)\n",
    "            \n",
    "        # Filter lines based on slope\n",
    "        if abs(slope) > slope_threshold:\n",
    "            slopes.append(slope)\n",
    "            new_lines.append(line)\n",
    "        \n",
    "    lines = new_lines\n",
    "    \n",
    "    # Split lines into right_lines and left_lines, representing the right and left lane lines\n",
    "    # Right/left lane lines must have positive/negative slope, and be on the right/left half of the image\n",
    "    right_lines = []\n",
    "    left_lines = []\n",
    "    for i, line in enumerate(lines):\n",
    "        x1, y1, x2, y2 = line[0]\n",
    "        img_x_center = img.shape[1] / 2  # x coordinate of center of image\n",
    "        if slopes[i] > 0 and x1 > img_x_center and x2 > img_x_center:\n",
    "            right_lines.append(line)\n",
    "        elif slopes[i] < 0 and x1 < img_x_center and x2 < img_x_center:\n",
    "            left_lines.append(line)\n",
    "            \n",
    "    # Run linear regression to find best fit line for right and left lane lines\n",
    "    # Right lane lines\n",
    "    right_lines_x = []\n",
    "    right_lines_y = []\n",
    "    \n",
    "    for line in right_lines:\n",
    "        x1, y1, x2, y2 = line[0]\n",
    "        \n",
    "        right_lines_x.append(x1)\n",
    "        right_lines_x.append(x2)\n",
    "        \n",
    "        right_lines_y.append(y1)\n",
    "        right_lines_y.append(y2)\n",
    "        \n",
    "    if len(right_lines_x) > 0:\n",
    "        right_m, right_b = np.polyfit(right_lines_x, right_lines_y, 1)  # y = m*x + b\n",
    "    else:\n",
    "        right_m, right_b = 1, 1\n",
    "        draw_right = False\n",
    "        \n",
    "    # Left lane lines\n",
    "    left_lines_x = []\n",
    "    left_lines_y = []\n",
    "    \n",
    "    for line in left_lines:\n",
    "        x1, y1, x2, y2 = line[0]\n",
    "        \n",
    "        left_lines_x.append(x1)\n",
    "        left_lines_x.append(x2)\n",
    "        \n",
    "        left_lines_y.append(y1)\n",
    "        left_lines_y.append(y2)\n",
    "        \n",
    "    if len(left_lines_x) > 0:\n",
    "        left_m, left_b = np.polyfit(left_lines_x, left_lines_y, 1)  # y = m*x + b\n",
    "    else:\n",
    "        left_m, left_b = 1, 1\n",
    "        draw_left = False\n",
    "    \n",
    "    # Find 2 end points for right and left lines, used for drawing the line\n",
    "    # y = m*x + b --> x = (y - b)/m\n",
    "    y1 = img.shape[0]\n",
    "    y2 = img.shape[0] * (1 - trap_height)\n",
    "    \n",
    "    right_x1 = (y1 - right_b) / right_m\n",
    "    right_x2 = (y2 - right_b) / right_m\n",
    "    \n",
    "    left_x1 = (y1 - left_b) / left_m\n",
    "    left_x2 = (y2 - left_b) / left_m\n",
    "    \n",
    "    # Convert calculated end points from float to int\n",
    "    y1 = int(y1)\n",
    "    y2 = int(y2)\n",
    "    right_x1 = int(right_x1)\n",
    "    right_x2 = int(right_x2)\n",
    "    left_x1 = int(left_x1)\n",
    "    left_x2 = int(left_x2)\n",
    "    \n",
    "    # Draw the right and left lines on image\n",
    "    if draw_right:\n",
    "        cv2.line(img, (right_x1, y1), (right_x2, y2), color, thickness)\n",
    "    if draw_left:\n",
    "        cv2.line(img, (left_x1, y1), (left_x2, y2), color, thickness)\n",
    "\n",
    "    \n",
    "def hough_lines(img, rho, theta, threshold, min_line_len, max_line_gap):\n",
    "    \"\"\"\n",
    "    `img` should be the output of a Canny transform.\n",
    "        \n",
    "    Returns an image with hough lines drawn.\n",
    "    \"\"\"\n",
    "    lines = cv2.HoughLinesP(img, rho, theta, threshold, np.array([]), minLineLength=min_line_len, maxLineGap=max_line_gap)\n",
    "    #line_img = np.zeros(img.shape, dtype=np.uint8)  # this produces single-channel (grayscale) image\n",
    "    line_img = np.zeros((*img.shape, 3), dtype=np.uint8)  # 3-channel RGB image\n",
    "    draw_lines(line_img, lines)\n",
    "    #draw_lines_debug2(line_img, lines)\n",
    "    return line_img\n",
    "\n",
    "# Python 3 has support for cool math symbols.\n",
    "\n",
    "def weighted_img(img, initial_img, α=0.8, β=1., λ=0.):\n",
    "    \"\"\"\n",
    "    `img` is the output of the hough_lines(), An image with lines drawn on it.\n",
    "    Should be a blank image (all black) with lines drawn on it.\n",
    "    \n",
    "    `initial_img` should be the image before any processing.\n",
    "    \n",
    "    The result image is computed as follows:\n",
    "    \n",
    "    initial_img * α + img * β + λ\n",
    "    NOTE: initial_img and img must be the same shape!\n",
    "    \"\"\"\n",
    "    return cv2.addWeighted(initial_img, α, img, β, λ)\n",
    "\n",
    "\n",
    "def filter_colors(image):\n",
    "    \"\"\"\n",
    "    Filter the image to include only yellow and white pixels\n",
    "    \"\"\"\n",
    "    # Filter white pixels\n",
    "    white_threshold = 200\n",
    "    lower_white = np.array([white_threshold, white_threshold, white_threshold])\n",
    "    upper_white = np.array([255, 255, 255])\n",
    "    white_mask = cv2.inRange(image, lower_white, upper_white)\n",
    "    white_image = cv2.bitwise_and(image, image, mask=white_mask)\n",
    "\n",
    "    # Filter yellow pixels\n",
    "    hsv = cv2.cvtColor(image, cv2.COLOR_BGR2HSV)\n",
    "    lower_yellow = np.array([90,100,100])\n",
    "    upper_yellow = np.array([110,255,255])\n",
    "    yellow_mask = cv2.inRange(hsv, lower_yellow, upper_yellow)\n",
    "    yellow_image = cv2.bitwise_and(image, image, mask=yellow_mask)\n",
    "\n",
    "    # Combine the two above images\n",
    "    image2 = cv2.addWeighted(white_image, 1., yellow_image, 1., 0.)\n",
    "\n",
    "    return image2"
   ]
  },
  {
   "cell_type": "markdown",
   "metadata": {},
   "source": [
    "## Test on Images\n",
    "\n",
    "Now you should build your pipeline to work on the images in the directory \"test_images\"  \n",
    "**You should make sure your pipeline works well on these images before you try the videos.**"
   ]
  },
  {
   "cell_type": "code",
   "execution_count": null,
   "metadata": {},
   "outputs": [],
   "source": [
    "import os\n",
    "os.listdir(\"test_images/\")"
   ]
  },
  {
   "cell_type": "markdown",
   "metadata": {},
   "source": [
    "run your solution on all test_images and make copies into the test_images directory)."
   ]
  },
  {
   "cell_type": "code",
   "execution_count": null,
   "metadata": {},
   "outputs": [],
   "source": [
    "# Global parameters\n",
    "\n",
    "# Gaussian smoothing\n",
    "kernel_size = 3\n",
    "\n",
    "# Canny Edge Detector\n",
    "low_threshold = 50\n",
    "high_threshold = 150\n",
    "\n",
    "# Region-of-interest vertices\n",
    "# We want a trapezoid shape, with bottom edge at the bottom of the image\n",
    "trap_bottom_width = 0.85  # width of bottom edge of trapezoid, expressed as percentage of image width\n",
    "trap_top_width = 0.07  # ditto for top edge of trapezoid\n",
    "trap_height = 0.4  # height of the trapezoid expressed as percentage of image height\n",
    "\n",
    "# Hough Transform\n",
    "rho = 2 # distance resolution in pixels of the Hough grid\n",
    "theta = 1 * np.pi/180 # angular resolution in radians of the Hough grid\n",
    "threshold = 15     # minimum number of votes (intersections in Hough grid cell)\n",
    "min_line_length = 10 #minimum number of pixels making up a line\n",
    "max_line_gap = 20    # maximum gap in pixels between connectable line segments"
   ]
  },
  {
   "cell_type": "code",
   "execution_count": null,
   "metadata": {},
   "outputs": [],
   "source": [
    "def annotate_image(image_in):\n",
    "    \"\"\" Given an image Numpy array, return the annotated image as a Numpy array \"\"\"\n",
    "    # Only keep white and yellow pixels in the image, all other pixels become black\n",
    "    image = filter_colors(image_in)\n",
    "    \n",
    "    # Read in and grayscale the image\n",
    "    #image = (image*255).astype('uint8')  # this step is unnecessary now\n",
    "    gray = grayscale(image)\n",
    "\n",
    "    # Apply Gaussian smoothing\n",
    "    blur_gray = gaussian_blur(gray, kernel_size)\n",
    "\n",
    "    # Apply Canny Edge Detector\n",
    "    edges = canny(blur_gray, low_threshold, high_threshold)\n",
    "\n",
    "    # Create masked edges using trapezoid-shaped region-of-interest\n",
    "    imshape = image.shape\n",
    "    vertices = np.array([[\\\n",
    "        ((imshape[1] * (1 - trap_bottom_width)) // 2, imshape[0]),\\\n",
    "        ((imshape[1] * (1 - trap_top_width)) // 2, imshape[0] - imshape[0] * trap_height),\\\n",
    "        (imshape[1] - (imshape[1] * (1 - trap_top_width)) // 2, imshape[0] - imshape[0] * trap_height),\\\n",
    "        (imshape[1] - (imshape[1] * (1 - trap_bottom_width)) // 2, imshape[0])]]\\\n",
    "        , dtype=np.int32)\n",
    "    masked_edges = region_of_interest(edges, vertices)\n",
    "\n",
    "    # Run Hough on edge detected image\n",
    "    line_image = hough_lines(masked_edges, rho, theta, threshold, min_line_length, max_line_gap)\n",
    "    \n",
    "    # Draw lane lines on the original image\n",
    "    initial_image = image_in.astype('uint8')\n",
    "    annotated_image = weighted_img(line_image, initial_image)\n",
    "    \n",
    "    return annotated_image"
   ]
  },
  {
   "cell_type": "code",
   "execution_count": null,
   "metadata": {},
   "outputs": [],
   "source": [
    "# Display an example image\n",
    "annotated_image = annotate_image(mpimg.imread('test_images/solidYellowCurve.jpg'))\n",
    "plt.imshow(annotated_image)"
   ]
  },
  {
   "cell_type": "code",
   "execution_count": null,
   "metadata": {},
   "outputs": [],
   "source": [
    "# Annotate all test_images/*.jpg\n",
    "# Save the annotated images as test_images/<original_filename>_annotated.jpg\n",
    "test_images = os.listdir('test_images/')\n",
    "\n",
    "for image in test_images:\n",
    "    annotated_image = annotate_image(mpimg.imread((os.path.join('test_images', image))))\n",
    "    fname = image.split('.')[0] + '_annotated.jpg'  # add '_annotated' suffix to annotated image jpg file\n",
    "    plt.imsave(os.path.join('test_images', fname), annotated_image)"
   ]
  },
  {
   "cell_type": "markdown",
   "metadata": {},
   "source": [
    "## Test on Videos\n",
    "\n",
    "You know what's cooler than drawing lanes over images? Drawing lanes over video!\n",
    "\n",
    "We can test our solution on two provided videos:\n",
    "\n",
    "`solidWhiteRight.mp4`\n",
    "\n",
    "`solidYellowLeft.mp4`"
   ]
  },
  {
   "cell_type": "code",
   "execution_count": null,
   "metadata": {},
   "outputs": [],
   "source": [
    "# Import everything needed to edit/save/watch video clips\n",
    "from moviepy.editor import VideoFileClip\n",
    "from IPython.display import HTML"
   ]
  },
  {
   "cell_type": "code",
   "execution_count": null,
   "metadata": {},
   "outputs": [],
   "source": [
    "def process_image(image):\n",
    "    # NOTE: The output you return should be a color image (3 channel) for processing video below\n",
    "    # TODO: put your pipeline here,\n",
    "    # you should return the final output (image with lines are drawn on lanes)\n",
    "    result = annotate_image(image)\n",
    "\n",
    "    return result"
   ]
  },
  {
   "cell_type": "markdown",
   "metadata": {},
   "source": [
    "Let's try the one with the solid white lane on the right first ..."
   ]
  },
  {
   "cell_type": "code",
   "execution_count": null,
   "metadata": {},
   "outputs": [],
   "source": [
    "white_output = 'white.mp4'\n",
    "clip1 = VideoFileClip(\"solidWhiteRight.mp4\")\n",
    "white_clip = clip1.fl_image(process_image) #NOTE: this function expects color images!!\n",
    "%time white_clip.write_videofile(white_output, audio=False)"
   ]
  },
  {
   "cell_type": "markdown",
   "metadata": {},
   "source": [
    "Play the video inline, or if you prefer find the video in your filesystem (should be in the same directory) and play it in your video player of choice."
   ]
  },
  {
   "cell_type": "code",
   "execution_count": null,
   "metadata": {},
   "outputs": [],
   "source": [
    "HTML(\"\"\"\n",
    "<video width=\"960\" height=\"540\" controls>\n",
    "  <source src=\"{0}\">\n",
    "</video>\n",
    "\"\"\".format(white_output))"
   ]
  },
  {
   "cell_type": "markdown",
   "metadata": {},
   "source": [
    "**At this point, if you were successful you probably have the Hough line segments drawn onto the road, but what about identifying the full extent of the lane and marking it clearly as in the example video (P1_example.mp4)?  Think about defining a line to run the full length of the visible lane based on the line segments you identified with the Hough Transform.  Modify your draw_lines function accordingly and try re-running your pipeline.**"
   ]
  },
  {
   "cell_type": "markdown",
   "metadata": {},
   "source": [
    "Now for the one with the solid yellow lane on the left. This one's more tricky!"
   ]
  },
  {
   "cell_type": "code",
   "execution_count": null,
   "metadata": {},
   "outputs": [],
   "source": [
    "yellow_output = 'yellow.mp4'\n",
    "clip2 = VideoFileClip('solidYellowLeft.mp4')\n",
    "yellow_clip = clip2.fl_image(process_image)\n",
    "%time yellow_clip.write_videofile(yellow_output, audio=False)"
   ]
  },
  {
   "cell_type": "code",
   "execution_count": null,
   "metadata": {},
   "outputs": [],
   "source": [
    "HTML(\"\"\"\n",
    "<video width=\"960\" height=\"540\" controls>\n",
    "  <source src=\"{0}\">\n",
    "</video>\n",
    "\"\"\".format(yellow_output))"
   ]
  },
  {
   "cell_type": "markdown",
   "metadata": {},
   "source": [
    "## Reflections\n",
    "\n",
    "Congratulations on finding the lane lines!  As the final step in this project, we would like you to share your thoughts on your lane finding pipeline... specifically, how could you imagine making your algorithm better / more robust?  Where will your current algorithm be likely to fail?\n",
    "\n",
    "Please add your thoughts below,  and if you're up for making your pipeline more robust, be sure to scroll down and check out the optional challenge video below!\n"
   ]
  },
  {
   "cell_type": "markdown",
   "metadata": {},
   "source": [
    "### My Reflection\n",
    "My reflection below pertains to my algorithm *after* updating it for the optional challenge.\n",
    "\n",
    "#### Current pipeline\n",
    "Currently, my pipeline is as follows:\n",
    "* Keep only yellow and white pixels, black out all other pixels: *filter_colors()*\n",
    "  * This removes any unwanted edges from shadows, cracks in the road, etc.\n",
    "* Convert image into grayscale: *grayscale()*\n",
    "* Apply Gaussian smoothing: *gaussian_blur()*\n",
    "* Run Canny Edge Detector: *canny()*\n",
    "* Create a trapezoidal region-of-interest in the center lower-half of the image: *region_of_interest()*\n",
    "* Run Hough Line Detector: *hough_lines()*\n",
    "* Filter Hough lines by slope and endpoint location, and separate them into candidate right/left lane line segments. Then run linear regression on candidate right/left lane line segment endpoints, to create right/left lane line equations. From these equations, draw right/left lane lines on the image: *draw_lines()*\n",
    "\n",
    "I tuned the parameters for the Canny Edge Detector and Hough Line Detector specifically to fit this problem. As a starting point, I used the parameters presented in the quiz solution of the Hough Transform lecture.\n",
    "\n",
    "#### Potential shortcomings\n",
    "The algorithm I created is likely overfitted to the data available in this project. For example, the algorithm may fail during night time. Or, it may fail in bad weather, such as rain or snow. Even during sunny days, if the road curves more sharply, my algorithm may also fail, because I am trying to extrapolate straight lane lines.\n",
    "\n",
    "#### Possible improvements\n",
    "To start, I would test my algorithm on highway roads, but with different weather conditions, such as night time, rain, snow, etc. I would also test my algorithm when there is heavy traffic on the highway. Then, I would see how/if the algorithm fails in those situations. From there, I can figure out ways to improve the algorithm to make it more robust.\n",
    "\n",
    "Further, I would test my algorithm on different road types, i.e. roads that are not highways. Examples would be country roads or urban roads."
   ]
  },
  {
   "cell_type": "markdown",
   "metadata": {},
   "source": [
    "## Submission\n",
    "\n",
    "If you're satisfied with your video outputs it's time to submit!\n"
   ]
  },
  {
   "cell_type": "markdown",
   "metadata": {
    "collapsed": true
   },
   "source": [
    "## Optional Challenge\n",
    "\n",
    "Try your lane finding pipeline on the video below.  Does it still work?  Can you figure out a way to make it more robust?  If you're up for the challenge, modify your pipeline so it works with this video and submit it along with the rest of your project!"
   ]
  },
  {
   "cell_type": "code",
   "execution_count": null,
   "metadata": {},
   "outputs": [],
   "source": [
    "challenge_output = 'extra.mp4'\n",
    "clip2 = VideoFileClip('challenge.mp4')\n",
    "challenge_clip = clip2.fl_image(process_image)\n",
    "%time challenge_clip.write_videofile(challenge_output, audio=False)"
   ]
  },
  {
   "cell_type": "code",
   "execution_count": null,
   "metadata": {},
   "outputs": [],
   "source": [
    "HTML(\"\"\"\n",
    "<video width=\"960\" height=\"540\" controls>\n",
    "  <source src=\"{0}\">\n",
    "</video>\n",
    "\"\"\".format(challenge_output))"
   ]
  },
  {
   "cell_type": "code",
   "execution_count": null,
   "metadata": {},
   "outputs": [],
   "source": []
  },
  {
   "cell_type": "code",
   "execution_count": null,
   "metadata": {},
   "outputs": [],
   "source": []
  },
  {
   "cell_type": "code",
   "execution_count": null,
   "metadata": {},
   "outputs": [],
   "source": []
  },
  {
   "cell_type": "code",
   "execution_count": null,
   "metadata": {},
   "outputs": [],
   "source": []
  },
  {
   "cell_type": "code",
   "execution_count": null,
   "metadata": {},
   "outputs": [],
   "source": []
  },
  {
   "cell_type": "code",
   "execution_count": null,
   "metadata": {},
   "outputs": [],
   "source": []
  },
  {
   "cell_type": "code",
   "execution_count": null,
   "metadata": {},
   "outputs": [],
   "source": []
  }
 ],
 "metadata": {
  "anaconda-cloud": {},
  "kernelspec": {
   "display_name": "Python 3",
   "language": "python",
   "name": "python3"
  },
  "language_info": {
   "codemirror_mode": {
    "name": "ipython",
    "version": 3
   },
   "file_extension": ".py",
   "mimetype": "text/x-python",
   "name": "python",
   "nbconvert_exporter": "python",
   "pygments_lexer": "ipython3",
   "version": "3.6.8"
  }
 },
 "nbformat": 4,
 "nbformat_minor": 1
}
